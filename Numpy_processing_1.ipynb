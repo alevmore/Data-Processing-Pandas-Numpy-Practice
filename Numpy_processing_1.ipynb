{
  "nbformat": 4,
  "nbformat_minor": 0,
  "metadata": {
    "colab": {
      "provenance": [],
      "include_colab_link": true
    },
    "kernelspec": {
      "name": "python3",
      "display_name": "Python 3"
    },
    "language_info": {
      "name": "python"
    }
  },
  "cells": [
    {
      "cell_type": "markdown",
      "metadata": {
        "id": "view-in-github",
        "colab_type": "text"
      },
      "source": [
        "<a href=\"https://colab.research.google.com/github/alevmore/datascience_hw/blob/main/Hw1.ipynb\" target=\"_parent\"><img src=\"https://colab.research.google.com/assets/colab-badge.svg\" alt=\"Open In Colab\"/></a>"
      ]
    },
    {
      "cell_type": "code",
      "execution_count": 12,
      "metadata": {
        "colab": {
          "base_uri": "https://localhost:8080/"
        },
        "id": "Jw_XEfTFMZFT",
        "outputId": "375c02fe-6ef9-4f4c-8412-f54cdd76c535"
      },
      "outputs": [
        {
          "output_type": "stream",
          "name": "stdout",
          "text": [
            "[ 1  2  3  4  5  7  8  6  9 10]\n",
            "[ 1  2  3  4  5  6  7  8  9 10]\n"
          ]
        }
      ],
      "source": [
        "# 1. Створіть одновимірний масив (вектор) з першими 10-ма натуральними числами та виведіть його значення.\n",
        "import numpy as np\n",
        "a = np.array([1, 2, 3, 4, 5, 7, 8, 6, 9, 10], dtype=int)\n",
        "b= np.arange (1,11)\n",
        "print(a)\n",
        "print (b)"
      ]
    },
    {
      "cell_type": "code",
      "source": [
        "# 2.Створіть двовимірний масив (матрицю) розміром 3x3, заповніть його нулями та виведіть його значення\n",
        "b = np.zeros((3, 3), dtype=\"u4\")\n",
        "print(b)"
      ],
      "metadata": {
        "colab": {
          "base_uri": "https://localhost:8080/"
        },
        "id": "6uNEQxfcMzwJ",
        "outputId": "aa7e3676-3232-44ce-ed20-f30d9f56484c"
      },
      "execution_count": null,
      "outputs": [
        {
          "output_type": "stream",
          "name": "stdout",
          "text": [
            "[[0 0 0]\n",
            " [0 0 0]\n",
            " [0 0 0]]\n"
          ]
        }
      ]
    },
    {
      "cell_type": "code",
      "source": [
        "# 3. Створіть масив розміром 5x5, заповніть його випадковими цілими числами в діапазоні від 1 до 10 та виведіть його значення.\n",
        "arr = np.random.randint(1, 11, size=(5,5))\n",
        "print (arr)"
      ],
      "metadata": {
        "colab": {
          "base_uri": "https://localhost:8080/"
        },
        "id": "gO_domGANFMn",
        "outputId": "6502c5e8-ec2a-4866-d487-aeddf73604fa"
      },
      "execution_count": null,
      "outputs": [
        {
          "output_type": "stream",
          "name": "stdout",
          "text": [
            "[[ 5  6  8  7  2]\n",
            " [ 3  1  3 10  5]\n",
            " [ 4  7  1  5  2]\n",
            " [ 8 10 10  7  9]\n",
            " [10  2  2  7  2]]\n"
          ]
        }
      ]
    },
    {
      "cell_type": "code",
      "source": [
        "# 4.Створіть масив розміром 4x4, заповніть його випадковими дійсними числами в діапазоні від 0 до 1 та виведіть його значення\n",
        "import numpy as np\n",
        "arr = np.random.random((4,4))\n",
        "print (arr)"
      ],
      "metadata": {
        "colab": {
          "base_uri": "https://localhost:8080/"
        },
        "id": "4TZdt2ohPX14",
        "outputId": "971dc548-bb23-4374-bc70-cd48415d40a6"
      },
      "execution_count": 4,
      "outputs": [
        {
          "output_type": "stream",
          "name": "stdout",
          "text": [
            "[[0.30634274 0.93521224 0.73852379 0.64002798]\n",
            " [0.79065529 0.03415297 0.20699756 0.06757206]\n",
            " [0.25037879 0.04969519 0.49252559 0.61834539]\n",
            " [0.30179781 0.71980988 0.68918464 0.1682561 ]]\n"
          ]
        }
      ]
    },
    {
      "cell_type": "code",
      "source": [
        "# 5.Створіть два одновимірних масиви розміром 5, заповніть їх випадковими цілими числами в діапазоні від 1 до 10 та виконайте на них поелементні операції додавання, віднімання та множення.\n",
        "a = np.random.randint(1, 11, size=(5,))\n",
        "b= np.random.randint(1, 11, size=(5,))\n",
        "\n",
        "print (a, b, a+b, a-b, a*b)"
      ],
      "metadata": {
        "colab": {
          "base_uri": "https://localhost:8080/"
        },
        "id": "_zJHhYg4eAK3",
        "outputId": "46bd684b-f4b5-42eb-aeb3-1d6416886715"
      },
      "execution_count": null,
      "outputs": [
        {
          "output_type": "stream",
          "name": "stdout",
          "text": [
            "[5 4 4 3 3] [10 10  6  6  5] [15 14 10  9  8] [-5 -6 -2 -3 -2] [50 40 24 18 15]\n"
          ]
        }
      ]
    },
    {
      "cell_type": "code",
      "source": [
        "# 6.Створіть два вектори розміром 7, заповніть довільними числами та знайдіть їх скалярний добуток.\n",
        "a = np.arange(7)\n",
        "b= np.arange (2,9)\n",
        "print (np.dot(a, b))"
      ],
      "metadata": {
        "colab": {
          "base_uri": "https://localhost:8080/"
        },
        "id": "iIJ0Yh0Xenpw",
        "outputId": "2566c108-06f9-4a53-d73e-937de3489ffa"
      },
      "execution_count": null,
      "outputs": [
        {
          "output_type": "stream",
          "name": "stdout",
          "text": [
            "133\n"
          ]
        }
      ]
    },
    {
      "cell_type": "code",
      "source": [
        "# 7.Створіть дві матриці розміром 2x2 та 2x3, заповніть їх випадковими цілими числами в діапазоні від 1 до 10 та перемножте їх між собою.\n",
        "arr1 = np.random.randint(1, 11, size=(2,2))\n",
        "arr2 = np.random.randint(1, 11, size=(2,3))\n",
        "print (np.dot(arr1,arr2))"
      ],
      "metadata": {
        "colab": {
          "base_uri": "https://localhost:8080/"
        },
        "id": "SK37Zr01i-pW",
        "outputId": "5afef4dc-c9d8-492a-b3eb-0af5e3a7ad0f"
      },
      "execution_count": null,
      "outputs": [
        {
          "output_type": "stream",
          "name": "stdout",
          "text": [
            "[[ 55  65  13]\n",
            " [ 86 100  20]]\n"
          ]
        }
      ]
    },
    {
      "cell_type": "code",
      "source": [
        "# 8. Створіть матрицю розміром 3x3, заповніть її випадковими цілими числами в діапазоні від 1 до 10 та знайдіть її обернену матрицю.\n",
        "a = np.random.randint(1, 11, size=(3,3))\n",
        "print(a)\n",
        "print(np.linalg.inv(a))"
      ],
      "metadata": {
        "colab": {
          "base_uri": "https://localhost:8080/"
        },
        "id": "i-0wMGUQmIR4",
        "outputId": "67ca04f9-27a7-430f-d8d5-263c73544418"
      },
      "execution_count": null,
      "outputs": [
        {
          "output_type": "stream",
          "name": "stdout",
          "text": [
            "[[ 2  7 10]\n",
            " [ 4  3  3]\n",
            " [ 9 10 10]]\n",
            "[[ 0.          0.76923077 -0.23076923]\n",
            " [-0.33333333 -1.79487179  0.87179487]\n",
            " [ 0.33333333  1.1025641  -0.56410256]]\n"
          ]
        }
      ]
    },
    {
      "cell_type": "code",
      "source": [
        "# 9. Створіть матрицю розміром 4x4, заповніть її випадковими дійсними числами в діапазоні від 0 до 1 та транспонуйте її.\n",
        "a = np.random.random((4,4))\n",
        "print (a)\n",
        "print(a.T)"
      ],
      "metadata": {
        "colab": {
          "base_uri": "https://localhost:8080/"
        },
        "id": "xNgOqoFjmr3M",
        "outputId": "048be1f6-30e8-4b28-861f-29d230ed3afe"
      },
      "execution_count": null,
      "outputs": [
        {
          "output_type": "stream",
          "name": "stdout",
          "text": [
            "[[0.89062034 0.39683395 0.9178588  0.61529694]\n",
            " [0.34737388 0.36932949 0.57915069 0.52189544]\n",
            " [0.76552046 0.73653299 0.05218339 0.60439872]\n",
            " [0.93332957 0.88045744 0.92173607 0.65099021]]\n",
            "[[0.89062034 0.34737388 0.76552046 0.93332957]\n",
            " [0.39683395 0.36932949 0.73653299 0.88045744]\n",
            " [0.9178588  0.57915069 0.05218339 0.92173607]\n",
            " [0.61529694 0.52189544 0.60439872 0.65099021]]\n"
          ]
        }
      ]
    },
    {
      "cell_type": "code",
      "source": [
        "# 10. Створіть матрицю розміром 3x4 та вектор розміром 4, заповніть їх випадковими цілими числами в діапазоні від 1 до 10 та перемножте матрицю на вектор.\n",
        "a = np.random.randint(1, 11, size=(3,4))\n",
        "b= np.arange (1,11, 4)\n",
        "print (np.dot (b,a))"
      ],
      "metadata": {
        "colab": {
          "base_uri": "https://localhost:8080/"
        },
        "id": "ijuiwpKWreo-",
        "outputId": "6bdbba22-1fbc-41ca-bc5d-bcfff903ab62"
      },
      "execution_count": 13,
      "outputs": [
        {
          "output_type": "stream",
          "name": "stdout",
          "text": [
            "[58 97 98 32]\n"
          ]
        }
      ]
    },
    {
      "cell_type": "code",
      "source": [
        "# 11.Створіть матрицю розміром 2x3 та вектор розміром 3, заповніть їх випадковими дійсними числами в діапазоні від 0 до 1 та перемножте матрицю на вектор.\n",
        "a = np.random.random((2,3))\n",
        "b= np.random.random(3,)\n",
        "print (a,b)\n",
        "print (np.dot(a,b))\n"
      ],
      "metadata": {
        "colab": {
          "base_uri": "https://localhost:8080/"
        },
        "id": "y_-ARMHYLhj0",
        "outputId": "42540af0-3d8b-4981-8fa3-ee34899e337c"
      },
      "execution_count": 10,
      "outputs": [
        {
          "output_type": "stream",
          "name": "stdout",
          "text": [
            "[[0.11614007 0.69084191 0.88189062]\n",
            " [0.47924344 0.7694318  0.72520299]] [0.35156178 0.02185003 0.61136083]\n",
            "[0.59507871 0.62865649]\n"
          ]
        }
      ]
    },
    {
      "cell_type": "code",
      "source": [
        "# 12.Створіть дві матриці розміром 2x2, заповніть їх випадковими цілими числами в діапазоні від 1 до 10 та виконайте їхнє поелементне множення.\n",
        "a= np.random.randint(1, 11, size=(2,2))\n",
        "b= np.random.randint(1, 11, size=(2,2))\n",
        "print (a*b)"
      ],
      "metadata": {
        "colab": {
          "base_uri": "https://localhost:8080/"
        },
        "id": "pdzf2EdYLHJg",
        "outputId": "0a22d512-049e-4f0f-e325-2be314c1274a"
      },
      "execution_count": 6,
      "outputs": [
        {
          "output_type": "stream",
          "name": "stdout",
          "text": [
            "[[80  7]\n",
            " [ 9  9]]\n"
          ]
        }
      ]
    },
    {
      "cell_type": "code",
      "source": [
        "# 13. Створіть дві матриці розміром 2x2, заповніть їх випадковими цілими числами в діапазоні від 1 до 10 та знайдіть їх добуток.\n",
        "a= np.random.randint(1, 11, size=(2,2))\n",
        "b= np.random.randint(1, 11, size=(2,2))\n",
        "print (np.dot(a,b))"
      ],
      "metadata": {
        "colab": {
          "base_uri": "https://localhost:8080/"
        },
        "id": "w_7RhUR_s8NL",
        "outputId": "b9d8e703-f505-4eda-de43-78366ccf12dc"
      },
      "execution_count": 7,
      "outputs": [
        {
          "output_type": "stream",
          "name": "stdout",
          "text": [
            "[[21 19]\n",
            " [60 44]]\n"
          ]
        }
      ]
    },
    {
      "cell_type": "code",
      "source": [
        "# 14. Створіть матрицю розміром 5x5, заповніть її випадковими цілими числами в діапазоні від 1 до 100 та знайдіть суму елементів матриці.\n",
        "a= np.random.randint(1, 101, size=(5,5))\n",
        "print (a.sum())"
      ],
      "metadata": {
        "colab": {
          "base_uri": "https://localhost:8080/"
        },
        "id": "Zcy_vXEWtcR6",
        "outputId": "1c5d5c7b-c771-4c97-c48f-b6fcea6cfde8"
      },
      "execution_count": null,
      "outputs": [
        {
          "output_type": "stream",
          "name": "stdout",
          "text": [
            "1322\n"
          ]
        }
      ]
    },
    {
      "cell_type": "code",
      "source": [
        "# 15. Створіть дві матриці розміром 4x4, заповніть їх випадковими цілими числами в діапазоні від 1 до 10 та знайдіть їхню різницю.\n",
        "a= np.random.randint(1, 11, size=(4,4))\n",
        "b= np.random.randint(1, 11, size=(4,4))\n",
        "print (a-b)"
      ],
      "metadata": {
        "colab": {
          "base_uri": "https://localhost:8080/"
        },
        "id": "sQwwflQNuPoB",
        "outputId": "40aa2294-15e0-403c-8966-fdb350c5ac53"
      },
      "execution_count": null,
      "outputs": [
        {
          "output_type": "stream",
          "name": "stdout",
          "text": [
            "[[ 1  1 -7  1]\n",
            " [-4 -4  8  4]\n",
            " [ 1 -1  2  6]\n",
            " [-6  2 -5 -2]]\n"
          ]
        }
      ]
    },
    {
      "cell_type": "code",
      "source": [
        "# 16. Створіть матрицю розміром 3x3, заповніть її випадковими дійсними числами в діапазоні від 0 до 1 та знайдіть вектор-стовпчик, що містить суму елементів кожного рядка матриці.\n",
        "a= np.random.random((3,3))\n",
        "b= np.sum (a, axis=1, keepdims=True)\n",
        "c = np.sum (a, axis=1)\n",
        "print (a)\n",
        "print (b)\n"
      ],
      "metadata": {
        "colab": {
          "base_uri": "https://localhost:8080/"
        },
        "id": "ho38Hto6ukdl",
        "outputId": "65f357a5-658d-49d8-d3d8-6f549889b0af"
      },
      "execution_count": 26,
      "outputs": [
        {
          "output_type": "stream",
          "name": "stdout",
          "text": [
            "[[0.2681647  0.73254678 0.19527843]\n",
            " [0.35019275 0.03115592 0.59634782]\n",
            " [0.08172045 0.30055312 0.91726806]]\n",
            "[[1.19598991]\n",
            " [0.97769649]\n",
            " [1.29954162]]\n"
          ]
        }
      ]
    },
    {
      "cell_type": "code",
      "source": [
        "# 17.Створіть матрицю розміром 3x4 з довільними цілими числами і створінь матрицю з квадратами цих чисел.\n",
        "a= np.random.randint(12, size=(3,4))\n",
        "a_sq= np.square(a)\n",
        "print (a)\n",
        "print (a_sq)"
      ],
      "metadata": {
        "colab": {
          "base_uri": "https://localhost:8080/"
        },
        "id": "hIAJqvx9yazM",
        "outputId": "21e0265b-880e-4486-df91-0c9006e038d2"
      },
      "execution_count": 5,
      "outputs": [
        {
          "output_type": "stream",
          "name": "stdout",
          "text": [
            "[[ 0 10  8  0]\n",
            " [ 1  2  3 10]\n",
            " [ 8  0 10  3]]\n",
            "[[  0 100  64   0]\n",
            " [  1   4   9 100]\n",
            " [ 64   0 100   9]]\n"
          ]
        }
      ]
    },
    {
      "cell_type": "code",
      "source": [
        "# 18. Створіть вектор розміром 4, заповніть його випадковими цілими числами в діапазоні від 1 до 50 та знайдіть вектор з квадратними коренями цих чисел.\n",
        "a= np.random.randint(1, 51, size=(4,))\n",
        "a_sqrt = np.sqrt (a)\n",
        "print (a)\n",
        "print (a_sqrt)"
      ],
      "metadata": {
        "colab": {
          "base_uri": "https://localhost:8080/"
        },
        "id": "e3PR1kZm2Ut9",
        "outputId": "0ab025cf-9219-4204-d124-1f970dff5a4c"
      },
      "execution_count": null,
      "outputs": [
        {
          "output_type": "stream",
          "name": "stdout",
          "text": [
            "[28 20 18 27]\n",
            "[5.29150262 4.47213595 4.24264069 5.19615242]\n"
          ]
        }
      ]
    }
  ]
}
