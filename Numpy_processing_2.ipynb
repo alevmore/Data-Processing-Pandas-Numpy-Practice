{
  "nbformat": 4,
  "nbformat_minor": 0,
  "metadata": {
    "colab": {
      "provenance": [],
      "authorship_tag": "ABX9TyO0AoLinjaQg/q9q1j7GaQc",
      "include_colab_link": true
    },
    "kernelspec": {
      "name": "python3",
      "display_name": "Python 3"
    },
    "language_info": {
      "name": "python"
    }
  },
  "cells": [
    {
      "cell_type": "markdown",
      "metadata": {
        "id": "view-in-github",
        "colab_type": "text"
      },
      "source": [
        "<a href=\"https://colab.research.google.com/github/alevmore/datascience_hw/blob/main/modul_4_2.ipynb\" target=\"_parent\"><img src=\"https://colab.research.google.com/assets/colab-badge.svg\" alt=\"Open In Colab\"/></a>"
      ]
    },
    {
      "cell_type": "code",
      "execution_count": 1,
      "metadata": {
        "colab": {
          "base_uri": "https://localhost:8080/"
        },
        "id": "1pDg8ADaJS3y",
        "outputId": "8d2669b6-4497-4a63-84e3-d2cbbd2bf994"
      },
      "outputs": [
        {
          "output_type": "stream",
          "name": "stdout",
          "text": [
            "[ 0 -1  2 -1  4 -1  6 -1  8 -1]\n"
          ]
        }
      ],
      "source": [
        "# 1. Замініть усі непарні числа в arr на -1 arr = np.array([0, 1, 2, 3, 4, 5, 6, 7, 8, 9])\n",
        "\n",
        "import numpy as np\n",
        "arr = np.array([0, 1, 2, 3, 4, 5, 6, 7, 8, 9])\n",
        "\n",
        "# Заміна непарних чисел на -1\n",
        "arr[arr % 2 != 0] = -1\n",
        "\n",
        "print(arr)\n"
      ]
    },
    {
      "cell_type": "code",
      "source": [
        "# 2. Створіть та перетворіть 1D-масив на 2D-масив із 2 рядками\n",
        "arr_1d = np.arange (1,16, 2)\n",
        "arr_2d= arr_1d.reshape(2,4)\n",
        "print (arr_1d)\n",
        "print (arr_2d)\n"
      ],
      "metadata": {
        "colab": {
          "base_uri": "https://localhost:8080/"
        },
        "id": "UbiloY_hKdY-",
        "outputId": "480b8e49-87cf-4f1d-f8c1-3f170fe4cfec"
      },
      "execution_count": 23,
      "outputs": [
        {
          "output_type": "stream",
          "name": "stdout",
          "text": [
            "[ 1  3  5  7  9 11 13 15]\n",
            "[[ 1  3  5  7]\n",
            " [ 9 11 13 15]]\n"
          ]
        }
      ]
    },
    {
      "cell_type": "code",
      "source": [
        "# 3. Створіть два двовимірні масиви а і b, та складіть масиви їх вертикально\n",
        "a = np.random.randint (1, 16, size=(2,3))\n",
        "b = np.random.randint (1, 35, size=(3,6))\n",
        "print (a)\n",
        "print (a.T)\n",
        "print (b)\n",
        "print (b.T)"
      ],
      "metadata": {
        "colab": {
          "base_uri": "https://localhost:8080/"
        },
        "id": "L92_kiz1Mzzg",
        "outputId": "abaa052b-3d2e-40b8-ae37-c65ae9333841"
      },
      "execution_count": 38,
      "outputs": [
        {
          "output_type": "stream",
          "name": "stdout",
          "text": [
            "[[ 8  8  5]\n",
            " [15 13 11]]\n",
            "[[ 8 15]\n",
            " [ 8 13]\n",
            " [ 5 11]]\n",
            "[[33  2 26  9 12 17]\n",
            " [34 18  7  2 34 23]\n",
            " [14 21 27 23 13  4]]\n",
            "[[33 34 14]\n",
            " [ 2 18 21]\n",
            " [26  7 27]\n",
            " [ 9  2 23]\n",
            " [12 34 13]\n",
            " [17 23  4]]\n"
          ]
        }
      ]
    },
    {
      "cell_type": "code",
      "source": [
        "# 4. Створіть наступний шаблон без жорсткого кодування(Hard coding) . Використовуйте лише функції Numpy і наведений нижче масив введення Input:a = np.array([1,2,3])\n",
        "# Output:array([1, 1, 1, 2, 2, 2, 3, 3, 3, 1, 2, 3, 1, 2, 3, 1, 2, 3])\n",
        "\n",
        "a = np.array([1,2,3])\n",
        "aa = np.repeat(a,3)\n",
        "ab = np.tile (a,3)\n",
        "aa_ab = np.concatenate((aa, ab))\n",
        "print(aa_ab)"
      ],
      "metadata": {
        "colab": {
          "base_uri": "https://localhost:8080/"
        },
        "id": "YAF9b4aBPE4M",
        "outputId": "c6ef6a2b-0f5d-4ec4-aaa8-e26ed573a587"
      },
      "execution_count": 51,
      "outputs": [
        {
          "output_type": "stream",
          "name": "stdout",
          "text": [
            "[1 1 1 2 2 2 3 3 3 1 2 3 1 2 3 1 2 3]\n"
          ]
        }
      ]
    },
    {
      "cell_type": "code",
      "source": [
        "# 5. Отримайте спільні елементи між a і b a = np.array([1,2,3,2,3,4,3,4,5,6]) b = np.array([7,2,10,2,7,4,9,4,9,8])\n",
        "\n",
        "a = np.array([1,2,3,2,3,4,3,4,5,6])\n",
        "b = np.array([7,2,10,2,7,4,9,4,9,8])\n",
        "a_b = np.intersect1d(a, b)\n",
        "print (a_b)"
      ],
      "metadata": {
        "colab": {
          "base_uri": "https://localhost:8080/"
        },
        "id": "SB82cA9qRcxg",
        "outputId": "6af35c08-dc20-4194-9242-cd0cb4d7fada"
      },
      "execution_count": 52,
      "outputs": [
        {
          "output_type": "stream",
          "name": "stdout",
          "text": [
            "[2 4]\n"
          ]
        }
      ]
    },
    {
      "cell_type": "code",
      "source": [
        "# 6. Отримайте позиції перших 5 максимальних значень у заданому масиві a np.random.seed(100) a = np.random.uniform(1,50, 20)\n",
        "\n",
        "a = np.random.seed(100)\n",
        "a = np.random.uniform(1,50, 20)\n",
        "a_max = np.sort(a.flatten())[-5:]\n",
        "print (a)\n",
        "print (a_max)"
      ],
      "metadata": {
        "colab": {
          "base_uri": "https://localhost:8080/"
        },
        "id": "IDHF1vx0R7e7",
        "outputId": "d04af069-1492-47d1-8857-530b89b8038f"
      },
      "execution_count": 58,
      "outputs": [
        {
          "output_type": "stream",
          "name": "stdout",
          "text": [
            "[27.62684215 14.64009987 21.80136195 42.39403048  1.23122395  6.95688692\n",
            " 33.86670515 41.466785    7.69862289 29.17957314 44.67477576 11.25090398\n",
            " 10.08108276  6.31046763 11.76517714 48.95256545 40.77247431  9.42510962\n",
            " 40.99501269 14.42961361]\n",
            "[40.99501269 41.466785   42.39403048 44.67477576 48.95256545]\n"
          ]
        }
      ]
    },
    {
      "cell_type": "code",
      "source": [
        "# 7. Вилучіть усі значення NaN із одновимірного  а=np.array([1,2,3,np.nan,5,6,7,np.nan])\n",
        "a = np.array([1, 2, 3, np.nan, 5, 6, 7, np.nan])\n",
        "\n",
        "# Вилучення значень NaN\n",
        "a_without_nan = a[~np.isnan(a)]\n",
        "\n",
        "print(a_without_nan)"
      ],
      "metadata": {
        "colab": {
          "base_uri": "https://localhost:8080/"
        },
        "id": "y5Mong8GTFCB",
        "outputId": "37afa41a-637d-45ba-fe94-67ec9e9a33f4"
      },
      "execution_count": 80,
      "outputs": [
        {
          "output_type": "stream",
          "name": "stdout",
          "text": [
            "[1. 2. 3. 5. 6. 7.]\n"
          ]
        }
      ]
    },
    {
      "cell_type": "code",
      "source": [
        "# 8. Обчисліть евклідову відстань між двома масивами a і b.\n",
        "\n",
        "a = np.array([1,2,3,4,5])\n",
        "b = np.array([4,5,6,7,8])\n",
        "distance = np.linalg.norm(a - b)\n",
        "print (distance)"
      ],
      "metadata": {
        "colab": {
          "base_uri": "https://localhost:8080/"
        },
        "id": "ErWm2Np1f1LC",
        "outputId": "4fc12647-7776-4105-ddb0-d542a0d5dca7"
      },
      "execution_count": 106,
      "outputs": [
        {
          "output_type": "stream",
          "name": "stdout",
          "text": [
            "6.708203932499369\n"
          ]
        }
      ]
    },
    {
      "cell_type": "code",
      "source": [
        "# 9. Знайдіть індекс 5-го повторення числа 1 у масиві x = np.array([1, 2, 1, 1, 3, 4, 3, 1, 1, 2, 1, 1, 2])\n",
        "\n",
        "x = np.array([1, 2, 1, 1, 3, 4, 3, 1, 1, 2, 1, 1, 2])\n",
        "index = np.argwhere(x == 1)[5]\n",
        "print (index)\n"
      ],
      "metadata": {
        "colab": {
          "base_uri": "https://localhost:8080/"
        },
        "id": "moRzk7W1YdA7",
        "outputId": "b4d33220-c9db-4472-d942-3caf515df439"
      },
      "execution_count": 86,
      "outputs": [
        {
          "output_type": "stream",
          "name": "stdout",
          "text": [
            "[10]\n"
          ]
        }
      ]
    },
    {
      "cell_type": "code",
      "source": [
        "# 10 np.random.seed(100) a = np.random.randint(0, 5, 10) [0 0 3 0 2 4 2 2 2 2] #Output [False True False True False False True True True True]\n",
        "\n",
        "import numpy as np\n",
        "\n",
        "np.random.seed(100)\n",
        "a = np.random.randint(0, 5, 10)\n",
        "\n",
        "# Створюємо масив, в якому перше входження кожного елемента відмічене як False\n",
        "first_occurrence = np.ones_like(a, dtype=bool)\n",
        "first_occurrence[np.unique(a, return_index=True)[1]] = False\n",
        "\n",
        "# Визначаємо повторені записи\n",
        "repeated_entries = ~first_occurrence\n",
        "print (a)\n",
        "print(repeated_entries)\n"
      ],
      "metadata": {
        "colab": {
          "base_uri": "https://localhost:8080/"
        },
        "id": "lZMHv5zzbZpL",
        "outputId": "810977e6-8d79-4e68-94c1-2dec2660a125"
      },
      "execution_count": 105,
      "outputs": [
        {
          "output_type": "stream",
          "name": "stdout",
          "text": [
            "[0 0 3 0 2 4 2 2 2 2]\n",
            "[ True False  True False  True  True False False False False]\n"
          ]
        }
      ]
    },
    {
      "cell_type": "code",
      "source": [],
      "metadata": {
        "id": "GVKytcIscBkW"
      },
      "execution_count": null,
      "outputs": []
    }
  ]
}
